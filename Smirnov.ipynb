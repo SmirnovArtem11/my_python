{
 "cells": [
  {
   "cell_type": "code",
   "execution_count": 29,
   "metadata": {},
   "outputs": [
    {
     "name": "stderr",
     "output_type": "stream",
     "text": [
      "Exception in Tkinter callback\n",
      "Traceback (most recent call last):\n",
      "  File \"C:\\Users\\30042205\\Anaconda3\\lib\\tkinter\\__init__.py\", line 1705, in __call__\n",
      "    return self.func(*args)\n",
      "  File \"<ipython-input-29-10df4fc3f281>\", line 13, in push\n",
      "    d={\"задача\":tack1.get(),\"категория\":tack2.get(),\"время\":tack3.get()}\n",
      "AttributeError: 'NoneType' object has no attribute 'get'\n"
     ]
    },
    {
     "name": "stdout",
     "output_type": "stream",
     "text": [
      "[]\n"
     ]
    }
   ],
   "source": [
    "import tkinter\n",
    "import json\n",
    "window = tkinter.Tk()\n",
    "window.geometry(\"1000x500\")\n",
    "window.title(\"helper\")\n",
    "def sut():\n",
    "    window.destroy()\n",
    "lst=[]\n",
    "def ter(tolkoviy):\n",
    "    with open(\"dat.json\",\"w\")as file:\n",
    "        json.dump(tolkoviy,file)\n",
    "def push():\n",
    "    d={\"задача\":tack1.get(),\"категория\":tack2.get(),\"время\":tack3.get()}\n",
    "    ter(d)\n",
    "    lst.append(d)\n",
    "    return lst\n",
    "def zd():\n",
    "    print(lst)\n",
    "\n",
    "a=tkinter.Label(text=\"задача\").grid(row=1,column=0)\n",
    "\n",
    "b=tkinter.Label(text=\"категория\").grid(row=2,column=0)\n",
    "\n",
    "c=tkinter.Label(text=\"время\").grid(row=3,column=0)\n",
    "\n",
    "tack1=tkinter.Entry(width=50).grid(row=1,column=1)\n",
    "\n",
    "tack2=tkinter.Entry(width=50).grid(row=2,column=1)\n",
    "\n",
    "tack3=tkinter.Entry(width=50).grid(row=3,column=1)\n",
    "\n",
    "but1=tkinter.Button(window, text=\"Добавить задачу\",command=push).grid(row=4,column=1)\n",
    "\n",
    "but2=tkinter.Button(window, text=\"Список задач\",command=zd).grid(row=5,column=1)\n",
    "\n",
    "but3=tkinter.Button(window, text=\"Выход\",command=sut).grid(row=6,column=1)\n",
    "\n",
    "window.mainloop()"
   ]
  },
  {
   "cell_type": "code",
   "execution_count": null,
   "metadata": {},
   "outputs": [],
   "source": []
  },
  {
   "cell_type": "code",
   "execution_count": null,
   "metadata": {},
   "outputs": [],
   "source": []
  }
 ],
 "metadata": {
  "kernelspec": {
   "display_name": "Python 3",
   "language": "python",
   "name": "python3"
  },
  "language_info": {
   "codemirror_mode": {
    "name": "ipython",
    "version": 3
   },
   "file_extension": ".py",
   "mimetype": "text/x-python",
   "name": "python",
   "nbconvert_exporter": "python",
   "pygments_lexer": "ipython3",
   "version": "3.7.4"
  }
 },
 "nbformat": 4,
 "nbformat_minor": 4
}
