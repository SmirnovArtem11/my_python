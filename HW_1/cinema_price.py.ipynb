{
 "cells": [
  {
   "cell_type": "code",
   "execution_count": null,
   "metadata": {},
   "outputs": [],
   "source": [
    "def fun1(date, count):\n",
    "    if(date==\"завтра\"):\n",
    "        if(count>=20):\n",
    "            return 0.75\n",
    "        else:\n",
    "            return 0.95\n",
    "    elif(date==\"сегодня\"):\n",
    "        if(count>=20):\n",
    "            return 0.8\n",
    "        else:\n",
    "            return 1\n",
    "\n",
    "def price(film, date, time, count):\n",
    "    p=fun1(date, count)\n",
    "    if(film==\"Паразиты\"):\n",
    "        if(time==12):\n",
    "            print(\"Стоимость заказа: \",250*amount*p,\" рублей\")\n",
    "        elif(time==16):\n",
    "            print(\"Стоимость заказа: \",350*amount*p,\" рублей\")\n",
    "        else:\n",
    "            print(\"Стоимость заказа: \",450*amount*p,\" рублей\")\n",
    "    elif(film==\"1917\"):\n",
    "        if(time==10):\n",
    "            print(\"Стоимость заказа: \",250*count*p,\" рублей\")\n",
    "        elif(time==13):\n",
    "            print(\"Стоимость заказа: \",350*count*p,\" рублей\")\n",
    "        else:\n",
    "            print(\"Стоимость заказа: \",350*count*p,\" рублей\")\n",
    "    else:\n",
    "        if(time==10):\n",
    "            print(\"Стоимость заказа: \",350*count*p,\" рублей\")\n",
    "        elif(time==14):\n",
    "            print(\"Стоимость заказа: \",450*count*p,\" рублей\")\n",
    "        else:\n",
    "            print(\"Стоимость заказа: \",450*count*p,\" рублей\")\n",
    "\n",
    "            \n",
    "film=input(\"Выберите фильм из предложенных: Паразиты, 1917, Соник в кино\\n\")\n",
    "date=input(\"Выберите дату: сегодня или завтра\\n\")\n",
    "if (film==\"Паразиты\"):\n",
    "    time=input(\"Выберите время сеанса: 12:00, 16:00, 20:00\\n\")\n",
    "elif (film==\"1917\"):\n",
    "    time=input(\"Выберите время сеанса: 10:00, 13:00, 16:00\\n\")\n",
    "else:\n",
    "    time=input(\"Выберите время сеанса: 10:00, 14:00, 18:00\\n\")\n",
    "time=int(time[:2])\n",
    "count=int(input(\"Укажите количество билетов\\n\"))\n",
    "price(film, date, time, count)"
   ]
  }
 ],
 "metadata": {
  "kernelspec": {
   "display_name": "Python 3",
   "language": "python",
   "name": "python3"
  },
  "language_info": {
   "codemirror_mode": {
    "name": "ipython",
    "version": 3
   },
   "file_extension": ".py",
   "mimetype": "text/x-python",
   "name": "python",
   "nbconvert_exporter": "python",
   "pygments_lexer": "ipython3",
   "version": "3.7.4"
  }
 },
 "nbformat": 4,
 "nbformat_minor": 4
}
