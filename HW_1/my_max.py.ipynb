{
 "cells": [
  {
   "cell_type": "code",
   "execution_count": null,
   "metadata": {},
   "outputs": [],
   "source": [
    "def my_max(a,b):\n",
    "    if a>b:\n",
    "        return(a)\n",
    "    else:\n",
    "        return(b)\n",
    "a1 = input(\"Введите первое число\")\n",
    "b1= input(\"Введите второе число\")\n",
    "if a1 and b1:\n",
    "    a=int(a1)\n",
    "    b=int(b1)\n",
    "    print(\"Наибольшее число: \",my_max(a,b))"
   ]
  }
 ],
 "metadata": {
  "kernelspec": {
   "display_name": "Python 3",
   "language": "python",
   "name": "python3"
  },
  "language_info": {
   "codemirror_mode": {
    "name": "ipython",
    "version": 3
   },
   "file_extension": ".py",
   "mimetype": "text/x-python",
   "name": "python",
   "nbconvert_exporter": "python",
   "pygments_lexer": "ipython3",
   "version": "3.7.4"
  }
 },
 "nbformat": 4,
 "nbformat_minor": 4
}
