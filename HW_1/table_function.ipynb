{
 "cells": [
  {
   "cell_type": "code",
   "execution_count": null,
   "metadata": {},
   "outputs": [],
   "source": [
    "atom_num = input(\"Введите атомный номер элемента\")\n",
    "if atom_num:\n",
    "    real_num = int(atom_num)\n",
    "    if real_num == 3:\n",
    "        print(\"Это литий\")\n",
    "    elif real_num == 17:\n",
    "        print(\"Это хлор\")\n",
    "    elif real_num == 25:\n",
    "        print(\"Это марганец\")\n",
    "    elif real_num == 80:\n",
    "        print(\"Это ртуть\")\n",
    "else:\n",
    "    print(\"Вы не ввели атомный номер элемента\")\n",
    "    "
   ]
  },
  {
   "cell_type": "code",
   "execution_count": null,
   "metadata": {},
   "outputs": [],
   "source": []
  }
 ],
 "metadata": {
  "kernelspec": {
   "display_name": "Python 3",
   "language": "python",
   "name": "python3"
  },
  "language_info": {
   "codemirror_mode": {
    "name": "ipython",
    "version": 3
   },
   "file_extension": ".py",
   "mimetype": "text/x-python",
   "name": "python",
   "nbconvert_exporter": "python",
   "pygments_lexer": "ipython3",
   "version": "3.7.4"
  }
 },
 "nbformat": 4,
 "nbformat_minor": 4
}
