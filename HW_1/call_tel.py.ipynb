{
 "cells": [
  {
   "cell_type": "code",
   "execution_count": null,
   "metadata": {},
   "outputs": [],
   "source": [
    "def call_fun(a,b):\n",
    "    if a==343:\n",
    "        print(\"Стоимость переговоров: \",15*b,\" рублей\")\n",
    "    elif a==381:\n",
    "        print(\"Стоимость переговоров: \",18*b,\" рублей\")  \n",
    "    elif a==473:\n",
    "        print(\"Стоимость переговоров: \",13*b,\" рублей\")  \n",
    "    elif a==485:\n",
    "        print(\"Стоимость переговоров: \",11*b,\" рублей\") \n",
    "user_a=input(\"Введите код региона\")\n",
    "user_b=input(\"Введите количество минут\")\n",
    "call_fun(float(user_a),float(user_b))"
   ]
  }
 ],
 "metadata": {
  "kernelspec": {
   "display_name": "Python 3",
   "language": "python",
   "name": "python3"
  },
  "language_info": {
   "codemirror_mode": {
    "name": "ipython",
    "version": 3
   },
   "file_extension": ".py",
   "mimetype": "text/x-python",
   "name": "python",
   "nbconvert_exporter": "python",
   "pygments_lexer": "ipython3",
   "version": "3.7.4"
  }
 },
 "nbformat": 4,
 "nbformat_minor": 4
}
