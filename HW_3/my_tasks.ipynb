{
 "cells": [
  {
   "cell_type": "code",
   "execution_count": null,
   "metadata": {},
   "outputs": [],
   "source": [
    "print('''Простой todo: \n",
    "    1. Добавить задачу.\n",
    "    2. Вывести список задач.\n",
    "    3. Выход.''')\n",
    "x = int(input(\"Укажите число: \"))\n",
    "y = []\n",
    "while x != 3:\n",
    "    if x == 1:\n",
    "        task = \"Задача: \" + input(\"Сформулируйте задачу: \\n\") + \" Категория: \" + input(\"Добавьте категорию к задаче: \\n\") + \"Дата: \" + input(\"Добавьте время к задаче: \\n\")\n",
    "        y.append(task)\n",
    "    if x == 2:\n",
    "        print(y)\n",
    "    print('''Простой todo: \n",
    "    1. Добавить задачу.\n",
    "    2. Вывести список задач.\n",
    "    3. Выход.''')\n",
    "    x = int(input(\"Укажите число: \"))"
   ]
  }
 ],
 "metadata": {
  "kernelspec": {
   "display_name": "Python 3",
   "language": "python",
   "name": "python3"
  },
  "language_info": {
   "codemirror_mode": {
    "name": "ipython",
    "version": 3
   },
   "file_extension": ".py",
   "mimetype": "text/x-python",
   "name": "python",
   "nbconvert_exporter": "python",
   "pygments_lexer": "ipython3",
   "version": "3.7.4"
  }
 },
 "nbformat": 4,
 "nbformat_minor": 4
}
