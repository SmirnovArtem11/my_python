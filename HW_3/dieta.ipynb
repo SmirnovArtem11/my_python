{
 "cells": [
  {
   "cell_type": "code",
   "execution_count": null,
   "metadata": {},
   "outputs": [],
   "source": [
    "ves=float(input('Введите свой вес(кг): '))\n",
    "curves=ves\n",
    "stves=[]\n",
    "for i in range(1,7):\n",
    "    curves=curves-1.5\n",
    "    stves.append(str(i)+ \"месяц: \" +str(curves))\n",
    "print(stves)"
   ]
  }
 ],
 "metadata": {
  "kernelspec": {
   "display_name": "Python 3",
   "language": "python",
   "name": "python3"
  },
  "language_info": {
   "codemirror_mode": {
    "name": "ipython",
    "version": 3
   },
   "file_extension": ".py",
   "mimetype": "text/x-python",
   "name": "python",
   "nbconvert_exporter": "python",
   "pygments_lexer": "ipython3",
   "version": "3.7.4"
  }
 },
 "nbformat": 4,
 "nbformat_minor": 4
}
