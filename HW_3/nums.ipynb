{
 "cells": [
  {
   "cell_type": "code",
   "execution_count": null,
   "metadata": {},
   "outputs": [],
   "source": [
    "text= '''В разные эпохи и у разных народов число Пи имело разное значение.\n",
    "Например, в Древнем Египте оно равнялось 3.1604 у индусов оно приобрело\n",
    "значение 3.162 китайцы пользовались числом, равным 3.1459\n",
    "Буквенное обозначение число Пи получило только в 1706 году – оно происходит\n",
    "от начальных букв двух греческих слов, означающих окружность и периметр.\n",
    "Буквой π число наделил математик Джонс, а прочно вошла в математику она\n",
    "уже в 1737 году.'''\n",
    "\n",
    "def nums(x):\n",
    "    try:\n",
    "        float(x)\n",
    "        return True\n",
    "    except ValueError:\n",
    "        return False\n",
    "list = []\n",
    "a = 0\n",
    "b = 0\n",
    "for i in text.split():\n",
    "    if i.isdigit():\n",
    "        list.append(int(i))\n",
    "        a += 1\n",
    "        b += int(i)\n",
    "    elif nums(i):\n",
    "        list.append(float(i))\n",
    "        a += 1\n",
    "        b += float(i)\n",
    "print('Числа: ', list ,'Количество чисел: ', a, 'Сумма чисел: ', b, 'Самое большое число: ', max(list))"
   ]
  }
 ],
 "metadata": {
  "kernelspec": {
   "display_name": "Python 3",
   "language": "python",
   "name": "python3"
  },
  "language_info": {
   "codemirror_mode": {
    "name": "ipython",
    "version": 3
   },
   "file_extension": ".py",
   "mimetype": "text/x-python",
   "name": "python",
   "nbconvert_exporter": "python",
   "pygments_lexer": "ipython3",
   "version": "3.7.4"
  }
 },
 "nbformat": 4,
 "nbformat_minor": 4
}
