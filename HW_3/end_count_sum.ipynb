{
 "cells": [
  {
   "cell_type": "code",
   "execution_count": null,
   "metadata": {},
   "outputs": [],
   "source": [
    "a = 0\n",
    "while True:\n",
    "    b = input('Введите число или cтоп для выхода: ')\n",
    "    if not b.isdigit():\n",
    "        if b == 'стоп' or 'Стоп':\n",
    "            print (a)\n",
    "            break\n",
    "        else:\n",
    "            print ('Ошибка ввода!')\n",
    "    else:\n",
    "        a += int(b)"
   ]
  }
 ],
 "metadata": {
  "kernelspec": {
   "display_name": "Python 3",
   "language": "python",
   "name": "python3"
  },
  "language_info": {
   "codemirror_mode": {
    "name": "ipython",
    "version": 3
   },
   "file_extension": ".py",
   "mimetype": "text/x-python",
   "name": "python",
   "nbconvert_exporter": "python",
   "pygments_lexer": "ipython3",
   "version": "3.7.4"
  }
 },
 "nbformat": 4,
 "nbformat_minor": 4
}
