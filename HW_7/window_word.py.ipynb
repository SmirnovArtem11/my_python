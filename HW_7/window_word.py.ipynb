{
 "cells": [
  {
   "cell_type": "code",
   "execution_count": null,
   "metadata": {},
   "outputs": [],
   "source": [
    "import tkinter\n",
    "import random\n",
    "dic = {\"dog\":\"собака\",\"cat\":\"кошка\", \"snake\": \"змея\",\"anaconda\": \"анаконда\", \"python\": \"питон\"}\n",
    "word = random.choice(list(dic.keys()))\n",
    "\n",
    "window = tkinter.Tk()\n",
    "\n",
    "def click():\n",
    "    word1 = dic.get(word)\n",
    "    if entry.get() == word1:\n",
    "        result = 'Слово угадано!'\n",
    "        label.config(text = result)\n",
    "    elif entry.get() != word1:\n",
    "        result = 'Слово не угадано!'\n",
    "        label.config(text = result)\n",
    "        \n",
    "def exit():\n",
    "    window.destroy()\n",
    "        \n",
    "a = tkinter.Label(window, text = 'Случайное слово: ')\n",
    "a.pack()\n",
    "new_word = tkinter.Label(window, text = word)\n",
    "new_word.pack()\n",
    "b = tkinter.Label(window, text = 'Укажите перевод слова: ')       \n",
    "b.pack()\n",
    "frame = tkinter.Frame(window)\n",
    "frame.pack()\n",
    "entry = tkinter.Entry(frame)\n",
    "entry.pack()\n",
    "label = tkinter.Label(window)\n",
    "label.pack()\n",
    "button1 = tkinter.Button(window, text = 'Готово!',command = click)\n",
    "button1.pack()\n",
    "button2 = tkinter.Button(window, text = 'Выход',command = exit)\n",
    "button2.pack()\n",
    "\n",
    "window.mainloop()"
   ]
  }
 ],
 "metadata": {
  "kernelspec": {
   "display_name": "Python 3",
   "language": "python",
   "name": "python3"
  },
  "language_info": {
   "codemirror_mode": {
    "name": "ipython",
    "version": 3
   },
   "file_extension": ".py",
   "mimetype": "text/x-python",
   "name": "python",
   "nbconvert_exporter": "python",
   "pygments_lexer": "ipython3",
   "version": "3.7.4"
  }
 },
 "nbformat": 4,
 "nbformat_minor": 4
}
