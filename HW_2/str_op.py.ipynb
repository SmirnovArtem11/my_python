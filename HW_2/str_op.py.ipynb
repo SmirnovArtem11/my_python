{
 "cells": [
  {
   "cell_type": "code",
   "execution_count": null,
   "metadata": {},
   "outputs": [],
   "source": [
    "s=\"У локоморья 123 дуб зеленый 456\"\n",
    "\n",
    "s.find('я')\n",
    "s.count(\"у\")\n",
    "if s.isalpha()!=True:\n",
    "    print(s.upper())\n",
    "len(s)\n",
    "if len(s)>4:\n",
    "    print(s.lower())\n",
    "s.replace(\"У\",\"о\")"
   ]
  }
 ],
 "metadata": {
  "kernelspec": {
   "display_name": "Python 3",
   "language": "python",
   "name": "python3"
  },
  "language_info": {
   "codemirror_mode": {
    "name": "ipython",
    "version": 3
   },
   "file_extension": ".py",
   "mimetype": "text/x-python",
   "name": "python",
   "nbconvert_exporter": "python",
   "pygments_lexer": "ipython3",
   "version": "3.7.4"
  }
 },
 "nbformat": 4,
 "nbformat_minor": 4
}
