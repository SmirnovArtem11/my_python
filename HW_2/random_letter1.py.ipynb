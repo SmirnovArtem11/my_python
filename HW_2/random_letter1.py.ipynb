{
 "cells": [
  {
   "cell_type": "code",
   "execution_count": null,
   "metadata": {},
   "outputs": [],
   "source": [
    "import random\n",
    "\n",
    "str_list=['самовар','весна','лето']\n",
    "word=random.choice(str_list)\n",
    "letter=random.choice(word)\n",
    "\n",
    "print(word.replace(letter,\"?\"))\n",
    "user_letter=input('Введите букву: ')\n",
    "\n",
    "if user_letter==letter:\n",
    "    print('Победа!\\nСлово: {str}'.format(str=word))\n",
    "else:\n",
    "    print('Увы! Попробуй в другой раз.\\nСлово: {str}'.format(str=word))"
   ]
  }
 ],
 "metadata": {
  "kernelspec": {
   "display_name": "Python 3",
   "language": "python",
   "name": "python3"
  },
  "language_info": {
   "codemirror_mode": {
    "name": "ipython",
    "version": 3
   },
   "file_extension": ".py",
   "mimetype": "text/x-python",
   "name": "python",
   "nbconvert_exporter": "python",
   "pygments_lexer": "ipython3",
   "version": "3.7.4"
  }
 },
 "nbformat": 4,
 "nbformat_minor": 4
}
