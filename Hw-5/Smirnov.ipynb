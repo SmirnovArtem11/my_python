{
 "cells": [
  {
   "cell_type": "code",
   "execution_count": 8,
   "metadata": {},
   "outputs": [
    {
     "name": "stdout",
     "output_type": "stream",
     "text": [
      "Создался новый персонаж Юля НЕВолкова\n",
      "Создался новый персонаж Tema\n",
      "Создался новый персонаж Обиженка Саша\n",
      "Скорость обычного персонажа: 10\n",
      "Скорость летающего персонажа: 15\n",
      "Персонаж Юля НЕВолкова выстрелил\n",
      "Персонаж Обиженка Саша бежит, его координаты (6, 8)\n",
      "Персонаж Tema бежит, его координаты (6, 8)\n",
      "Персонаж Юля НЕВолкова подобрал предмет, здоровье 103 \n",
      "Персонаж Юля НЕВолкова выстрелил\n"
     ]
    }
   ],
   "source": [
    "class Character:\n",
    "    def __init__(self, name = 'Персонаж без имени', x = 0, y = 0, live = 100, speed = 10, item = 1):\n",
    "        self._name = name\n",
    "        self._x = x\n",
    "        self._y = y\n",
    "        self._live = live\n",
    "        self._speed = speed\n",
    "        self._item = item\n",
    "        print(f'Создался новый персонаж {self._name}')\n",
    "    def run(self, с_x=1, с_y=1):\n",
    "        self._x += с_x\n",
    "        self._y += с_y\n",
    "        print(f'Персонаж {self._name} бежит, его координаты {self._x, self._y}')\n",
    "    def fire(self):\n",
    "        print (f'Персонаж {self._name} выстрелил')\n",
    "    def items(self, item):         \n",
    "            self._item +=1\n",
    "            self._live +=3\n",
    "            print(f'Персонаж {self._name} подобрал предмет, здоровье {self._live} ')\n",
    "class BirdningMan (Character):\n",
    "    def __init__(self, name ='Персонаж без имени', x = 0, y = 0, live = 100, speed = 15, item = 1):\n",
    "        Character.__init__(self, name = name, x = x, y = y, live = live, speed = speed, item = item)\n",
    "    \n",
    "hero1 = Character('Юля НЕВолкова')\n",
    "hero2 = BirdningMan('Tema')\n",
    "hero3 = Character('Обиженка Саша')\n",
    "\n",
    "print(f'Скорость обычного персонажа: {hero1._speed}')\n",
    "print(f'Скорость летающего персонажа: {hero2._speed}')\n",
    "\n",
    "hero1.fire()\n",
    "hero3.run(6,8)\n",
    "\n",
    "hero2.run(6,8)\n",
    "\n",
    "hero1.items('зелье')\n",
    "hero1._item\n",
    "\n",
    "hero1.fire()\n",
    "    "
   ]
  },
  {
   "cell_type": "code",
   "execution_count": null,
   "metadata": {},
   "outputs": [],
   "source": []
  }
 ],
 "metadata": {
  "kernelspec": {
   "display_name": "Python 3",
   "language": "python",
   "name": "python3"
  },
  "language_info": {
   "codemirror_mode": {
    "name": "ipython",
    "version": 3
   },
   "file_extension": ".py",
   "mimetype": "text/x-python",
   "name": "python",
   "nbconvert_exporter": "python",
   "pygments_lexer": "ipython3",
   "version": "3.7.4"
  }
 },
 "nbformat": 4,
 "nbformat_minor": 4
}
