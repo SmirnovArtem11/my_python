{
 "cells": [
  {
   "cell_type": "code",
   "execution_count": null,
   "metadata": {},
   "outputs": [],
   "source": [
    "list=[9, 1, 1, 1, 4, 8, 3, 1, 4, 4, 4, 3, 4, 4, 1, 3, 2, 4, 3, 6]\n",
    "\n",
    "m=list[:5]\n",
    "maxer=sum(m)\n",
    "\n",
    "for i in range(1,16):\n",
    "    if sum(list[i:i+5])>maxer:\n",
    "        m=list[i:i+5]\n",
    "        maxer=sum(list[i:i+5])\n",
    "m"
   ]
  }
 ],
 "metadata": {
  "kernelspec": {
   "display_name": "Python 3",
   "language": "python",
   "name": "python3"
  },
  "language_info": {
   "codemirror_mode": {
    "name": "ipython",
    "version": 3
   },
   "file_extension": ".py",
   "mimetype": "text/x-python",
   "name": "python",
   "nbconvert_exporter": "python",
   "pygments_lexer": "ipython3",
   "version": "3.7.4"
  }
 },
 "nbformat": 4,
 "nbformat_minor": 4
}
