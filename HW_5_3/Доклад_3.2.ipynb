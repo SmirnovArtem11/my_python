{
 "cells": [
  {
   "cell_type": "code",
   "execution_count": 1,
   "metadata": {},
   "outputs": [
    {
     "name": "stdout",
     "output_type": "stream",
     "text": [
      "[-7, -6, -5, -2, 0, 1, 4, 5, 7, 10]\n"
     ]
    },
    {
     "name": "stdin",
     "output_type": "stream",
     "text": [
      "Введите число a: 4\n"
     ]
    },
    {
     "name": "stdout",
     "output_type": "stream",
     "text": [
      "[-7, -6, -5, -2, 0, 1, 4, 4, 5, 7, 10]\n",
      "[-7, -6, -5, -2, 0, 1, 4, 4, 4, 5, 7, 10]\n",
      "9\n"
     ]
    }
   ],
   "source": [
    "import bisect\n",
    "from random import randint\n",
    "\n",
    "rand_list = sorted([randint(-10, 10) for _ in range(10)])\n",
    "\n",
    "print(rand_list)\n",
    "\n",
    "a = int(input(\"Введите число a:\"))\n",
    "\n",
    "bisect.insort(rand_list, a)\n",
    "print(rand_list)\n",
    "\n",
    "bisect.insort_left(rand_list, a)\n",
    "print(rand_list)\n",
    "\n",
    "pos = bisect.bisect(rand_list, a)\n",
    "print(pos)"
   ]
  },
  {
   "cell_type": "code",
   "execution_count": null,
   "metadata": {},
   "outputs": [],
   "source": []
  }
 ],
 "metadata": {
  "kernelspec": {
   "display_name": "Python 3",
   "language": "python",
   "name": "python3"
  },
  "language_info": {
   "codemirror_mode": {
    "name": "ipython",
    "version": 3
   },
   "file_extension": ".py",
   "mimetype": "text/x-python",
   "name": "python",
   "nbconvert_exporter": "python",
   "pygments_lexer": "ipython3",
   "version": "3.7.4"
  }
 },
 "nbformat": 4,
 "nbformat_minor": 4
}
