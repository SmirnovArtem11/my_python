{
 "cells": [
  {
   "cell_type": "code",
   "execution_count": 8,
   "metadata": {},
   "outputs": [
    {
     "name": "stdout",
     "output_type": "stream",
     "text": [
      "[8, 9, 10, 4, 0, 3, 1, 7, 3, 8]\n",
      "[0, 3, 1, 4, 8, 3, 10, 7, 8, 9]\n",
      "[3, 4, 7]\n"
     ]
    }
   ],
   "source": [
    "import heapq\n",
    "from random import randint\n",
    "\n",
    "\n",
    "rand_list = [randint(0, 10) for _ in range(10)]\n",
    "print(rand_list)\n",
    "heapq.heapify(rand_list)\n",
    "print(rand_list)\n",
    "print(heapq.nsmallest(6, rand_list)[3:6])"
   ]
  },
  {
   "cell_type": "code",
   "execution_count": null,
   "metadata": {},
   "outputs": [],
   "source": []
  }
 ],
 "metadata": {
  "kernelspec": {
   "display_name": "Python 3",
   "language": "python",
   "name": "python3"
  },
  "language_info": {
   "codemirror_mode": {
    "name": "ipython",
    "version": 3
   },
   "file_extension": ".py",
   "mimetype": "text/x-python",
   "name": "python",
   "nbconvert_exporter": "python",
   "pygments_lexer": "ipython3",
   "version": "3.7.4"
  }
 },
 "nbformat": 4,
 "nbformat_minor": 4
}
