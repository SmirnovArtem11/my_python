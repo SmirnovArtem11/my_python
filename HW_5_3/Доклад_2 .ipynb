{
 "cells": [
  {
   "cell_type": "code",
   "execution_count": 9,
   "metadata": {},
   "outputs": [
    {
     "name": "stdout",
     "output_type": "stream",
     "text": [
      "Исходная строка: MgAvZu7l3J4oT\n",
      "['M', 'g', 'A', 'v', 'Z', 'u', '7', 'l', '3', 'J', '4', 'o', 'T']\n"
     ]
    }
   ],
   "source": [
    "from string import ascii_letters, digits\n",
    "from random import randint, choice\n",
    "import collections as cl\n",
    "\n",
    "\n",
    "random_string = ''.join(choice(ascii_letters + digits) for _ in range(randint(5, 20)))\n",
    "\n",
    "print('Исходная строка:', random_string)\n",
    "\n",
    "n = len(set(random_string))\n",
    "c = cl.Counter(random_string).most_common(n)\n",
    "\n",
    "f_all_num = lambda lst, num: [element[num] for element in lst]\n",
    "\n",
    "minimal_value = min(f_all_num(c, 1))\n",
    "\n",
    "out = list(f_all_num(filter(lambda element: element[1] == minimal_value, c), 0))\n",
    "\n",
    "print(out)"
   ]
  },
  {
   "cell_type": "code",
   "execution_count": null,
   "metadata": {},
   "outputs": [],
   "source": []
  }
 ],
 "metadata": {
  "kernelspec": {
   "display_name": "Python 3",
   "language": "python",
   "name": "python3"
  },
  "language_info": {
   "codemirror_mode": {
    "name": "ipython",
    "version": 3
   },
   "file_extension": ".py",
   "mimetype": "text/x-python",
   "name": "python",
   "nbconvert_exporter": "python",
   "pygments_lexer": "ipython3",
   "version": "3.7.4"
  }
 },
 "nbformat": 4,
 "nbformat_minor": 4
}
