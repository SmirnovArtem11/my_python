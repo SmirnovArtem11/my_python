{
 "cells": [
  {
   "cell_type": "code",
   "execution_count": null,
   "metadata": {},
   "outputs": [],
   "source": [
    "with open (\"moby_clean.txt\", \"r\") as file:\n",
    "    sp = file.readlines()\n",
    "    dic = {i: sp.count(i) for i in sp}\n",
    "    a = sorted(list(dic.values()))\n",
    "    mini = a[-5:]\n",
    "    maxi = a[:5]\n",
    "    funcmin =[i for i in sp if dic[i] == mini[0] or dic[i] == mini[1] or dic[i] == mini[2] or dic[i] == mini[3] or dic[i] == mini[4]][:5]\n",
    "    funcmax = [i for i in sp if dic[i] == maxi[0] or dic[i] == maxi[1] or dic[i] == maxi[2] or dic[i] == maxi[3] or dic[i] == maxi[4]][:5]\n",
    "    print(funcmin+funcmax)"
   ]
  }
 ],
 "metadata": {
  "kernelspec": {
   "display_name": "Python 3",
   "language": "python",
   "name": "python3"
  },
  "language_info": {
   "codemirror_mode": {
    "name": "ipython",
    "version": 3
   },
   "file_extension": ".py",
   "mimetype": "text/x-python",
   "name": "python",
   "nbconvert_exporter": "python",
   "pygments_lexer": "ipython3",
   "version": "3.7.4"
  }
 },
 "nbformat": 4,
 "nbformat_minor": 4
}
