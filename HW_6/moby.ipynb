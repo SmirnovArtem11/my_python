{
 "cells": [
  {
   "cell_type": "code",
   "execution_count": null,
   "metadata": {},
   "outputs": [],
   "source": [
    "with open (\"moby.txt\", \"r\") as file, open(\"moby_clean.txt\",\"a\") as file_1:\n",
    "    trantab = str.maketrans(\"\",\"\",\".,;:-\")\n",
    "    trantabq1 = str.maketrans({\"\\n\":None})\n",
    "    l = file.read().lower()\n",
    "    l = l.translate(trantab).translate(trantab1)\n",
    "    for i in l.split():\n",
    "        file_1.write(\"\".join([i,\"\\n\"]))"
   ]
  }
 ],
 "metadata": {
  "kernelspec": {
   "display_name": "Python 3",
   "language": "python",
   "name": "python3"
  },
  "language_info": {
   "codemirror_mode": {
    "name": "ipython",
    "version": 3
   },
   "file_extension": ".py",
   "mimetype": "text/x-python",
   "name": "python",
   "nbconvert_exporter": "python",
   "pygments_lexer": "ipython3",
   "version": "3.7.4"
  }
 },
 "nbformat": 4,
 "nbformat_minor": 4
}
