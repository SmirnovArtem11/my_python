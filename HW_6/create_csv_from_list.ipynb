{
 "cells": [
  {
   "cell_type": "code",
   "execution_count": null,
   "metadata": {},
   "outputs": [],
   "source": [
    "def create_csv(filename,sp):\n",
    "    try:\n",
    "        with open(filename,\"w\") as file:\n",
    "            x = list(map(lambda a: \",\".join(a),spisok))\n",
    "            y = \"name, adress, age\\n\" + \"\\n\".join(x)\n",
    "            file.write(d)\n",
    "    except Exception as с:\n",
    "        print(с)\n",
    "sp = [(\"Георгий\", \"Невский проспект\", \"22\"),(\"Иван\", \"пр. Ветеранов\", \"21\")]\n",
    "try:\n",
    "    with open(\"filename_1.txt\",\"w\") as file:\n",
    "        x = list(map(lambda a: \",\".join(a),sp))\n",
    "        y = \"name, adress, age\\n\" + \"\\n\".join(x)\n",
    "        file.write(y)\n",
    "except Exception as с:\n",
    "     print(с)"
   ]
  }
 ],
 "metadata": {
  "kernelspec": {
   "display_name": "Python 3",
   "language": "python",
   "name": "python3"
  },
  "language_info": {
   "codemirror_mode": {
    "name": "ipython",
    "version": 3
   },
   "file_extension": ".py",
   "mimetype": "text/x-python",
   "name": "python",
   "nbconvert_exporter": "python",
   "pygments_lexer": "ipython3",
   "version": "3.7.4"
  }
 },
 "nbformat": 4,
 "nbformat_minor": 4
}
