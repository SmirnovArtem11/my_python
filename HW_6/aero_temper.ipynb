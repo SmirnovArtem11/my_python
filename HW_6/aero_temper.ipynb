{
 "cells": [
  {
   "cell_type": "code",
   "execution_count": null,
   "metadata": {},
   "outputs": [],
   "source": [
    "temperature = {}\n",
    "with open(\"temper_stat.txt\", \"r\") as file:\n",
    "    for line in file:\n",
    "        line = float(line.strip(\"\\n\"))\n",
    "        try:\n",
    "            temperature[line] += 1\n",
    "        except KeyError:\n",
    "            temperature[line] = 1\n",
    "    unique_t = str(len(temperature))\n",
    "    max_t = str(max(temperature.keys()))\n",
    "    min_t = str(min(temperature.keys()))\n",
    "    average_t = str(round(sum(temperature.keys()) / len(temperature),1))\n",
    "print(\"Всего уникальных температур: \" + unique_t)\n",
    "print(\"Максимальное значение температуры: \" + max_t)\n",
    "print(\"Минимальное значение температуры: \" + min_t)\n",
    "print(\"Среднее значение температуры: \" + average_t)"
   ]
  }
 ],
 "metadata": {
  "kernelspec": {
   "display_name": "Python 3",
   "language": "python",
   "name": "python3"
  },
  "language_info": {
   "codemirror_mode": {
    "name": "ipython",
    "version": 3
   },
   "file_extension": ".py",
   "mimetype": "text/x-python",
   "name": "python",
   "nbconvert_exporter": "python",
   "pygments_lexer": "ipython3",
   "version": "3.7.4"
  }
 },
 "nbformat": 4,
 "nbformat_minor": 4
}
