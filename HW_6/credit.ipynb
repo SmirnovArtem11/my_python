{
 "cells": [
  {
   "cell_type": "code",
   "execution_count": null,
   "metadata": {},
   "outputs": [],
   "source": [
    "import csv\n",
    "s = []\n",
    "s2 = []\n",
    "with open(\"opendata.stat.txt\", \"r\", encoding = \"utf8\") as statistic:\n",
    "        stat = list(csv.reader(statistic))\n",
    "        for i in stat:\n",
    "            if i[0] == \"name \":\n",
    "                continue\n",
    "            else:\n",
    "                if i[0] == 'Количество заявок на потребительские кредиты' and i[2][0:4] == '2017':\n",
    "                    s.append(i[1])\n",
    "        s2 = list(set(s))\n",
    "        dictionary = dict(zip(s2,[0 for j in s2]))\n",
    "        for i in stat:\n",
    "            if i[0] == \"name \":\n",
    "                continue\n",
    "            else:\n",
    "                if i[0] == 'Количество заявок на потребительские кредиты' and i[2][0:4] == '2017':\n",
    "                     dictionary[i[1]] += int(i[3])\n",
    "        del  dictionary['Россия']\n",
    "print(tuple(reversed(max(zip( dictionary.values(), dictionary.keys())))))"
   ]
  }
 ],
 "metadata": {
  "kernelspec": {
   "display_name": "Python 3",
   "language": "python",
   "name": "python3"
  },
  "language_info": {
   "codemirror_mode": {
    "name": "ipython",
    "version": 3
   },
   "file_extension": ".py",
   "mimetype": "text/x-python",
   "name": "python",
   "nbconvert_exporter": "python",
   "pygments_lexer": "ipython3",
   "version": "3.7.4"
  }
 },
 "nbformat": 4,
 "nbformat_minor": 4
}
