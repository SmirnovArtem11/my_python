{
 "cells": [
  {
   "cell_type": "code",
   "execution_count": null,
   "metadata": {},
   "outputs": [],
   "source": [
    "import pandas as pd\n",
    "\n",
    "url = \"https://raw.githubusercontent.com/dm-fedorov/pandas_basic/master/data/football.csv\"\n",
    "\n",
    "football = pd.read_csv(url)\n",
    "print(\"Средний возраст футболистов:\", int(football.Age.mean()))\n",
    "print(\"Количество хладнокровных футболистов:\", football['Composure'].count())\n",
    "print(\"Стандартное отклонение:\", round(football.ShortPassing.std(), 2))\n",
    "print(\"Сумма заработных плат:\", football.Wage.sum())\n",
    "print(\"Минимальная стоимость:\", football.Value.min())\n",
    "print(\"Средняя скорость с зарплатой выше среднего:\",\n",
    "      round(football[football.Wage > football.Wage.mean()].SprintSpeed.mean(), 2))\n",
    "print(\"Средняя скорость с зарплатой ниже среднего:\",\n",
    "      round(football[football.Wage < football.Wage.mean()].SprintSpeed.mean(), 2))\n",
    "\n",
    "print(\"Позиция игрока с высочайшей зарплатой:\", football[football.Wage == football.Wage.max()]['Position'][0])\n",
    "\n",
    "print(\"Количество пенальти, сделанных бразильцами:\", football[football.Nationality == 'Brazil'].Penalties.sum())\n",
    "\n",
    "print(\"Средний возраст игроков с точностью ударов головой выше 50:\",\n",
    "      round(football[football.HeadingAccuracy > 50].Age.mean(), 2))\n",
    "\n",
    "print(\"Самый молодой игрок с хладнокровием и реакцией выше 90:\",\n",
    "      football[(football.Composure > football.Composure.max() * 0.9) &\n",
    "               (football.Reactions > football.Reactions.max() * 0.9)].Age.min())\n",
    "print(\"Разница в реакции самых старых и самых молодых:\",\n",
    "      round(football[football.Age == football.Age.max()].Reactions.mean() -\n",
    "            football[football.Age == football.Age.min()].Reactions.mean(), 2))\n",
    "\n",
    "print(\"Страна с самыми дорогими игроками:\",\n",
    "      football[football.Value > football.Value.mean()].Nationality.value_counts().keys()[0])\n",
    "print(\"Отношение зарплат у голкиперов с лучшими рефлексами и с лушим владением мячом:\",\n",
    "      round(football[(football.Position == 'GK') & (football.GKReflexes == football.GKReflexes.max())].Wage.mean() /\n",
    "            football[(football.Position == 'GK') & (football.GKHandling == football.GKHandling.max())].Wage.mean(), 2))\n",
    "\n",
    "print(\"Отношение силы ударов наиболее и наименее агрессивных игроков:\",\n",
    "      round(football[football.Aggression == football.Aggression.max()].ShotPower.mean() /\n",
    "            football[football.Aggression == football.Aggression.min()].ShotPower.mean(), 2))\n"
   ]
  }
 ],
 "metadata": {
  "kernelspec": {
   "display_name": "Python 3",
   "language": "python",
   "name": "python3"
  },
  "language_info": {
   "codemirror_mode": {
    "name": "ipython",
    "version": 3
   },
   "file_extension": ".py",
   "mimetype": "text/x-python",
   "name": "python",
   "nbconvert_exporter": "python",
   "pygments_lexer": "ipython3",
   "version": "3.7.4"
  }
 },
 "nbformat": 4,
 "nbformat_minor": 4
}
