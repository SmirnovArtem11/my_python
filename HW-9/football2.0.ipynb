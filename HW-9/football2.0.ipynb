{
 "cells": [
  {
   "cell_type": "code",
   "execution_count": null,
   "metadata": {},
   "outputs": [],
   "source": [
    "import pandas as pd\n",
    "\n",
    "url = \"https://raw.githubusercontent.com/dm-fedorov/pandas_basic/master/data/football.csv\"\n",
    "\n",
    "football = pd.read_csv(url)\n",
    "\n",
    "print(\"Испанцев с зарплатой не более четверти от максимальной:\",\n",
    "      football[football.Wage <= football[football.Nationality == 'Spain'].Wage.value_counts(bins=4).index[0].right].Wage.count())\n",
    "print(\"Различных национальностей в Manchester United:\",\n",
    "      len(football[football.Club == 'Manchester United'].Nationality.unique()))\n",
    "print(\"Бразильцы, играющие в Juventus:\",\n",
    "      football[(football.Club == 'Juventus') & (football.Nationality == 'Brazil')].Name.unique())\n",
    "\n",
    "players = 0\n",
    "top_club = ''\n",
    "for club in football.Club.unique():\n",
    "    if football[(football.Club == club) & (football.Age > 35)].Name.count() > players:\n",
    "        players = football[(football.Club == club) & (football.Age > 35)].Name.count()\n",
    "        top_club = club\n",
    "print(\"Клуб с наибольшим числом игроков старше 35 лет:\", top_club)\n",
    "print(\"Количество старейших аргентинцев-футболистов:\",\n",
    "      football[(football.Nationality == 'Argentina') &\n",
    "               (football.Age >= football.Age.value_counts(bins=4).index[3].left)].Age.count())\n",
    "print(\"Процент 21 летних футболистов от всего испанского состава:\",\n",
    "      round(football[football.Nationality == 'Spain'].Age.value_counts(normalize=True)[21], 2))\n"
   ]
  }
 ],
 "metadata": {
  "kernelspec": {
   "display_name": "Python 3",
   "language": "python",
   "name": "python3"
  },
  "language_info": {
   "codemirror_mode": {
    "name": "ipython",
    "version": 3
   },
   "file_extension": ".py",
   "mimetype": "text/x-python",
   "name": "python",
   "nbconvert_exporter": "python",
   "pygments_lexer": "ipython3",
   "version": "3.7.4"
  }
 },
 "nbformat": 4,
 "nbformat_minor": 4
}
