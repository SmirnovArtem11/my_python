{
 "cells": [
  {
   "cell_type": "code",
   "execution_count": null,
   "metadata": {},
   "outputs": [],
   "source": [
    "print(\"Средняя запрплата на различных позициях:\",\n",
    "      football.groupby(['Position']).mean().Wage.sort_values(ascending=False))\n",
    "print(\"Средняя запрплата в различных клубах:\",\n",
    "      football.groupby(['Club']).agg(['mean', 'median']).Wage)\n",
    "clubs = []\n",
    "max_salary_club = \"\"\n",
    "max_salary = 0\n",
    "for club in football.Club.unique():\n",
    "    if football[football.Club == club].Wage.mean() == football[football.Club == club].Wage.median():\n",
    "        clubs.append(club)\n",
    "        if football[football.Club == club].Wage.mean() > max_salary:\n",
    "            max_salary = football[football.Club == club].Wage.mean()\n",
    "            max_salary_club = club\n",
    "\n",
    "print(\"Клубы с одинаковой медианной и средней зарплатами:\", clubs)\n",
    "print(\"Максимальная средняя оплата среди этих клубов:\", max_salary)\n",
    "print(\"Название этого клуба:\", max_salary_club)"
   ]
  }
 ],
 "metadata": {
  "kernelspec": {
   "display_name": "Python 3",
   "language": "python",
   "name": "python3"
  },
  "language_info": {
   "codemirror_mode": {
    "name": "ipython",
    "version": 3
   },
   "file_extension": ".py",
   "mimetype": "text/x-python",
   "name": "python",
   "nbconvert_exporter": "python",
   "pygments_lexer": "ipython3",
   "version": "3.7.4"
  }
 },
 "nbformat": 4,
 "nbformat_minor": 4
}
